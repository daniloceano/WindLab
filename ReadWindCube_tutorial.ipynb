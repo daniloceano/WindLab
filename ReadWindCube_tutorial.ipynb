{
 "cells": [
  {
   "cell_type": "markdown",
   "metadata": {},
   "source": [
    "# ReadWindCube\n",
    "\n",
    "Este notebook tem como objetivo exemplificar a utilização do programa **ReadWindCube**. O **ReadWindCube** foi desenvolvido para facilitar a leitura e manipulação de dados do instrumento **Wind Cube LIDAR**, oferecendo funcionalidades para automação de análise e visualização desses dados.\n",
    "\n",
    "Com o **ReadWindCube**, é possível carregar dados diretamente dos arquivos do Wind Cube, realizar cálculos estatísticos, gerar gráficos como a rosa dos ventos e exportar os resultados em formatos de fácil uso, como tabelas CSV. Essas funcionalidades são úteis para a elaboração de normas técnicas, relatórios e artigos científicos, proporcionando agilidade e precisão nas análises de dados de vento.\n",
    "\n",
    "Neste notebook, abordaremos as principais funcionalidades do **ReadWindCube**, com exemplos práticos de uso.\n"
   ]
  },
  {
   "cell_type": "markdown",
   "metadata": {},
   "source": [
    "### Leitura e manipulação de dados\n",
    "\n",
    "O primeiro passo na utilização do programa envolve a leitura de um arquivo bruto de dados e sua manipulação. Para isso, o **ReadWindCube** utiliza as bibliotecas **Pandas** e **Xarray**:\n",
    "\n",
    "- **Pandas** é responsável por ler o arquivo bruto tabulado do Wind Cube LIDAR.\n",
    "- **Xarray** transforma os dados em um objeto multidimensional (3D), permitindo uma manipulação mais intuitiva e facilitada, semelhante a trabalhar com arquivos NetCDF."
   ]
  },
  {
   "cell_type": "code",
   "execution_count": null,
   "metadata": {},
   "outputs": [],
   "source": [
    "# Primeiramente, importar o objeto ReadWindCubeAccessor\n",
    "from ReadWindCube import ReadWindCubeAccessor\n",
    "\n",
    "# Criar uma instância de ReadWindCubeAccessor e carregar o arquivo de exemplo\n",
    "ds_accessor = ReadWindCubeAccessor(\"./WLS866-104_2024_08_01__00_00_00.rtd\")  # Arquivo de exemplo\n",
    "ds_accessor.load_data()\n",
    "\n",
    "# Acessar diretamente o objeto xarray.Dataset\n",
    "dataset = ds_accessor.dataset\n",
    "print(dataset)"
   ]
  },
  {
   "cell_type": "markdown",
   "metadata": {},
   "source": [
    "Podemos ver que o objeto gerado possui as coordenadas **tempo** e **altura**, além de diferentes variáveis, como a **velocidade do vento**, suas componentes nos eixos **X, Y e Z**, e a **direção do vento** (em graus). \n",
    "\n",
    "### Importante:\n",
    "A altura indicada está relativa ao nível do mar mais a altura do aparelho instalado. Por exemplo, se o Wind Cube está instalado a 100m do nível do mar, soma-se a altura do feixe de luz medido à altura de referência. \n",
    "\n",
    "Como o metadado do arquivo não especifica a altura de referência do aparelho, essa altura deve ser passada pelo usuário como argumento no momento de construir o dataset. Veja um exemplo abaixo:"
   ]
  },
  {
   "cell_type": "code",
   "execution_count": null,
   "metadata": {},
   "outputs": [],
   "source": [
    "# Criando uma instância do ReadWindCubeAccessor e carregando o arquivo com uma altura de referência de 100 metros\n",
    "ds_accessor = ReadWindCubeAccessor(\"./WLS866-104_2024_08_01__00_00_00.rtd\")\n",
    "ds_accessor.load_data(reference_height=100)\n",
    "\n",
    "# Acessar diretamente o objeto xarray.Dataset e verificar as alturas ajustadas\n",
    "dataset = ds_accessor.dataset\n",
    "print(dataset)"
   ]
  },
  {
   "cell_type": "markdown",
   "metadata": {},
   "source": [
    "### Seleção de tempos e alturas específicas\n",
    "\n",
    "Uma vez que os dados são carregados no formato `xarray.Dataset`, o **ReadWindCube** oferece métodos fáceis e eficientes para selecionar intervalos de tempo e alturas específicas. Isso pode ser feito utilizando os métodos `.sel` (seleção por coordenadas) e `.isel` (seleção por índices).\n",
    "\n",
    "#### Método `.sel`: Seleção por coordenadas\n",
    "\n",
    "O método `.sel` permite selecionar dados com base nos valores exatos das coordenadas, como datas e alturas específicas. Por exemplo, você pode selecionar dados para um período de tempo ou uma altura específica em metros.\n",
    "\n",
    "**Exemplo: Seleção por intervalo de tempo e altura específica**"
   ]
  },
  {
   "cell_type": "code",
   "execution_count": null,
   "metadata": {},
   "outputs": [],
   "source": [
    "# Selecionando dados entre 2024-08-01 00:00:00 e 2024-08-01 02:00:00 para a altura de 50 metros\n",
    "subset_accessor = ds_accessor.sel(time=slice('2024-08-01T00:00:00', '2024-08-01T02:00:00'), height=150)\n",
    "print(subset_accessor.dataset)"
   ]
  },
  {
   "cell_type": "markdown",
   "metadata": {},
   "source": [
    "Neste exemplo, selecionamos o intervalo de tempo desejado usando a função `slice`, e a altura é escolhida diretamente com o valor exato (neste caso, 150 metros). Isso permite visualizar os dados apenas para aquele intervalo e altura.\n",
    "\n",
    "#### Método `.isel`: Seleção por índices \n",
    "\n",
    "O método `.isel` permite a seleção de dados com base nos índices das coordenadas, ou seja, você pode escolher as posições numéricas das coordenadas de tempo e altura em vez de seus valores exatos."
   ]
  },
  {
   "cell_type": "code",
   "execution_count": null,
   "metadata": {},
   "outputs": [],
   "source": [
    "# Selecionando os primeiros 100 passos de tempo e o primeiro índice de altura\n",
    "subset_accessor = ds_accessor.isel(time=slice(0, 100), height=0)\n",
    "print(subset_accessor.dataset)"
   ]
  },
  {
   "cell_type": "markdown",
   "metadata": {},
   "source": [
    "Neste exemplo, estamos selecionando os primeiros 100 passos de tempo e o primeiro índice de altura no dataset. O primeiro índice de altura corresponde à menor altura no dataset (por exemplo, se as alturas são 50, 60 e 70 metros, o índice 0 corresponde a 50 metros)."
   ]
  },
  {
   "cell_type": "markdown",
   "metadata": {},
   "source": [
    "### Cálculo do desvio padrão da velocidade do vento e remoção de tendência\n",
    "\n",
    "O **ReadWindCube** oferece uma função útil para calcular o desvio padrão da velocidade do vento, após remover tendências dos dados. Essa operação é particularmente útil para identificar a variabilidade do vento em diferentes alturas e durante diferentes intervalos de tempo, à partir de uma série estacionária.\n",
    "\n",
    "#### Função `compute_std_detrended_data`\n",
    "\n",
    "Essa função realiza o cálculo do desvio padrão para uma variável (por padrão, a velocidade do vento) em uma altura específica, utilizando uma janela deslizante para suavizar as variações e remover tendências de longo prazo.\n",
    "\n",
    "#### Parâmetros de entrada:\n",
    "- **height** (*int*): Altura em metros para a qual o desvio padrão será calculado.\n",
    "- **variable** (*str*): Nome da variável para a qual o cálculo será realizado (o padrão é 'Wind Speed (m/s)').\n",
    "- **window_size** (*int*): Tamanho da janela deslizante (em número de passos no tempo) para o cálculo do desvio padrão. O padrão é 600 passos no tempo, mas pode ser ajustado conforme necessário.\n",
    "\n",
    "#### Exemplo prático:\n",
    "\n",
    "Abaixo, calculamos o desvio padrão com remoção de tendência para a velocidade do vento a 40 metros de altura e, em seguida, plotamos o resultado ao longo do tempo."
   ]
  },
  {
   "cell_type": "code",
   "execution_count": null,
   "metadata": {},
   "outputs": [],
   "source": [
    "# Calcular o desvio padrão com remoção de tendência para a velocidade do vento a 140 metros\n",
    "std_detrended_ws140m = ds_accessor.compute_std_detrended_data(140, 'Wind Speed (m/s)')\n",
    "\n",
    "# Importar biblioteca de plotagem\n",
    "import matplotlib.pyplot as plt\n",
    "\n",
    "# Plotar o desvio padrão ao longo do tempo\n",
    "plt.figure(figsize=(8,6))\n",
    "plt.plot(dataset.time.values, std_detrended_ws140m.values, c='#c1121f')\n",
    "plt.title('Desvio Padrão da Velocidade do Vento com Tendência Removida a 140m', fontsize=14)\n",
    "plt.xlabel('Tempo', labelpad=10, fontsize=14)\n",
    "plt.xticks(rotation=45, fontsize=12)\n",
    "plt.yticks(fontsize=12)\n",
    "plt.show()"
   ]
  },
  {
   "cell_type": "markdown",
   "metadata": {},
   "source": [
    "### Exemplo: Cálculo do desvio padrão com remoção de tendência e plotagem da velocidade do vento a 140 metros\n",
    "\n",
    "Agora, vamos plotar a série temporal da velocidade do vento real e do desvio padrão calculado para podermos comparar visualmente ambas as séries"
   ]
  },
  {
   "cell_type": "code",
   "execution_count": null,
   "metadata": {},
   "outputs": [],
   "source": [
    "# Calcular o desvio padrão com remoção de tendência para a velocidade do vento a 140 metros\n",
    "std_detrended_ws140m = ds_accessor.compute_std_detrended_data(140, 'Wind Speed (m/s)')\n",
    "\n",
    "# Velocidade real a 140 metros\n",
    "ws140m = dataset[\"Wind Speed (m/s)\"].sel(height=140)\n",
    "print(ws140m)\n",
    "\n",
    "# Importar biblioteca de plotagem\n",
    "import matplotlib.pyplot as plt\n",
    "\n",
    "# Plotar o desvio padrão ao longo do tempo junto com a velocidade do vento original\n",
    "plt.figure(figsize=(8,6))\n",
    "plt.plot(dataset.time.values, ws140m.values, c='#003049', label='Velocidade do Vento a 140m')\n",
    "plt.plot(dataset.time.values, (std_detrended_ws140m + ws140m.mean()).values, c='#c1121f', label='Velocidade com Desvio Padrão Detrended')\n",
    "plt.title('Desvio Padrão da Velocidade do Vento com Tendência Removida a 140m', fontsize=14)\n",
    "plt.xlabel('Tempo', labelpad=10, fontsize=14)\n",
    "plt.xticks(rotation=45, fontsize=12)\n",
    "plt.yticks(fontsize=12)\n",
    "plt.legend()\n",
    "plt.show()"
   ]
  },
  {
   "cell_type": "markdown",
   "metadata": {},
   "source": [
    "\n",
    "### Plotagem da velocidade do vento em uma única altura\n",
    "\n",
    "Para facilitar a visualização da velocidade do vento, o **ReadWindCube** possui uma função embutida chamada `plot_variable`. Com esta função, o usuário pode facilmente gerar gráficos de variáveis, como a velocidade do vento, para um nível específico de altura.\n",
    "\n",
    "#### Função `plot_variable`\n",
    "\n",
    "A função `plot_variable` gera um gráfico simples da variável desejada para a altura especificada. Isso é útil quando o usuário quer visualizar rapidamente a evolução da velocidade do vento ao longo do tempo para uma única altura, sem a necessidade de realizar operações adicionais.\n",
    "\n",
    "#### Parâmetros de entrada:\n",
    "- **height** (*int*): A altura em metros para a qual a variável será plotada.\n",
    "- **variable** (*str*): A variável a ser plotada (por padrão, 'Wind Speed (m/s)').\n",
    "\n",
    "#### Exemplo prático:\n",
    "\n",
    "Neste exemplo, vamos visualizar: velocidade do vento, velocidade do vento na direção X e direção do vento, a uma altura de 140 metros. Além da plotagem básica, o usuário pode personalizar o gráfico gerado através do objeto `ax`, que representa o eixo do gráfico. Abaixo estão algumas customizações possíveis:"
   ]
  },
  {
   "cell_type": "code",
   "execution_count": null,
   "metadata": {},
   "outputs": [],
   "source": [
    "# Velocidade do vento\n",
    "ax = ds_accessor.plot_variable(140, 'Wind Speed (m/s)')\n",
    "\n",
    "# Componente X\n",
    "ax = ds_accessor.plot_variable(140, 'X-wind (m/s)')\n",
    "ax.tick_params(axis='x', labelrotation=45)  # Rotaciona os rótulos do eixo X\n",
    "\n",
    "# Direção do vento\n",
    "ax = ds_accessor.plot_variable(140, 'Wind Direction (°)')\n",
    "ax.tick_params(axis='x', labelrotation=45)\n",
    "ax.grid(True)  # Ativa o grid no gráfico\n",
    "line = ax.lines[0] # Capturando a linha gerada\n",
    "line.set_color('red')  # Define a cor da linha para vermelho"
   ]
  },
  {
   "cell_type": "markdown",
   "metadata": {},
   "source": [
    "### Obter dados de velocidade e direção do vento em formato de DataFrame\n",
    "\n",
    "O **ReadWindCube** oferece uma função para extrair os dados de velocidade e direção do vento para uma altura específica e convertê-los diretamente em um `pandas.DataFrame`. Isso é útil quando se deseja trabalhar com os dados em um formato mais tabular, por exemplo, para fazer cálculos adicionais ou exportar os dados para um arquivo CSV.\n",
    "\n",
    "#### Função `get_wind_df`\n",
    "\n",
    "A função `get_wind_df` retorna um `DataFrame` com as colunas 'Wind Speed (m/s)' e 'Wind Direction (°)' para a altura especificada.\n",
    "\n",
    "#### Parâmetros de entrada:\n",
    "- **height** (*int*): A altura em metros para a qual os dados serão extraídos.\n",
    "\n",
    "#### Exemplo prático:\n",
    "\n",
    "Neste exemplo, vamos obter a velocidade e a direção do vento a 40 metros e visualizar os primeiros dados retornados:"
   ]
  },
  {
   "cell_type": "code",
   "execution_count": null,
   "metadata": {},
   "outputs": [],
   "source": [
    "# Obter um DataFrame com velocidade e direção do vento a 40 metros\n",
    "wind_df = ds_accessor.get_wind_df(140)\n",
    "\n",
    "# Exibir o DataFrame\n",
    "print(wind_df.head())"
   ]
  },
  {
   "cell_type": "markdown",
   "metadata": {},
   "source": [
    "### Visualização de Rosas dos Ventos\n",
    "\n",
    "Uma funcionalidade bastante útil do ReadWindCube é a possibilidade de gerar rosas dos ventos a partir dos dados de velocidade e direção do vento em diferentes alturas. A função `plot_wind_rose` permite que você visualize uma rosa dos ventos para uma altura específica, com a possibilidade de calcular médias em janelas de tempo específicas.\n",
    "\n",
    "#### Parâmetros da Função `plot_wind_rose` \n",
    "\n",
    "* **`height`**: Altura (em metros) para a qual será gerada a rosa dos ventos.\n",
    "* **`averaging_window`**: (Opcional) Janela de tempo para calcular a média dos dados. O formato segue as regras do Pandas, como `'1h'` para média horária, `'10T'` para média a cada 10 minutos, etc.\n",
    "* **`colormap`**: (Opcional) O mapa de cores utilizado para a plotagem. O valor padrão é `'viridis'`, mas você pode escolher diferentes colormaps como `'coolwarm'`, `'plasma'`, etc.\n",
    "* **`period`**: (Opcional) Um período para filtrar os dados. Pode ser um mês específico (por exemplo, `'January'`, `'February'`) ou uma estação do ano (usando os códigos meteorológicos `'DJF'` para verão austral, `'JJA'` para inverno austral, etc.).\n",
    "* **Retorno**: A função retorna o objeto `WindroseAxes` para que você possa modificar ou salvar o gráfico posteriormente.\n",
    "\n",
    "#### Exemplo 1: Plotar a Rosa dos Ventos sem Média\n",
    "\n",
    "No exemplo abaixo, plotamos a rosa dos ventos para a altura de 140 metros sem realizar médias temporais."
   ]
  },
  {
   "cell_type": "code",
   "execution_count": null,
   "metadata": {},
   "outputs": [],
   "source": [
    "# Plotar a rosa dos ventos para a altura de 140 metros sem média temporal\n",
    "ds_accessor.plot_wind_rose(140)\n",
    "plt.show()"
   ]
  },
  {
   "cell_type": "markdown",
   "metadata": {},
   "source": [
    "#### Exemplo 2: Plotar a Rosa dos Ventos com Média Temporal \n",
    "\n",
    "A função `plot_wind_rose` também permite calcular médias para diferentes janelas de tempo. Abaixo, mostramos como calcular a média de velocidade e direção do vento a cada 1 hora e, em seguida, plotar a rosa dos ventos para a altura de 40 metros. Além disso, você pode modificar o título e salvar a figura posteriormente."
   ]
  },
  {
   "cell_type": "code",
   "execution_count": null,
   "metadata": {},
   "outputs": [],
   "source": [
    "# Plotar a rosa dos ventos para a altura de 140 metros com média horária e um mapa de cores diferente\n",
    "ax = ds_accessor.plot_wind_rose(140, averaging_window='1h', colormap='coolwarm')\n",
    "ax.set_title(\"Rosa dos Ventos a 40m - Média Horária\", fontsize=16)\n",
    "plt.show()\n",
    "\n",
    "# Salvar a figura\n",
    "ax.figure.savefig('rosa_dos_ventos_140m_horario.png')"
   ]
  },
  {
   "cell_type": "markdown",
   "metadata": {},
   "source": [
    "### Geração de Tabela de Distribuição de Vento\n",
    "\n",
    "A função `generate_wind_distribution_table` tem como objetivo gerar uma tabela de distribuição cumulativa ou binned de vento. Cada linha pode representar a frequência cumulativa para velocidades de vento abaixo de um determinado limite ou a frequência dentro de intervalos de velocidade, enquanto cada coluna representa direções de vento agrupadas em bins de ±15° ao redor de um valor central (por exemplo, 30°, 60°, etc.).\n",
    "\n",
    "Essa função é útil para análise de frequência de vento em diferentes direções e velocidades e pode ser usada para gerar tabelas que resumem as características do vento em diferentes alturas.\n",
    "\n",
    "#### Parâmetros:\n",
    "- **height (int)**: A altura em metros na qual calcular a distribuição de vento.\n",
    "- **speed_thresholds (list, opcional)**: Lista com os limites de velocidade do vento (em m/s). O padrão é [2, 4, 6, 8, 10, 12, 14, 16, 18, 20, 22, 24, 26, 28, 30, 32].\n",
    "- **direction_bins (list, opcional)**: Lista com os limites de bins de direção do vento (em graus). O padrão é [0, 30, 60, 90, 120, 150, 180, 210, 240, 270, 300, 330, 360].\n",
    "- **period (str, opcional)**: Um parâmetro opcional para filtrar dados de uma estação meteorológica específica ou mês. As estações podem ser representadas pelas siglas \"DJF\" (Verão), \"MAM\" (Outono), \"JJA\" (Inverno), e \"SON\" (Primavera). Além disso, também pode ser especificado um mês, como \"January\" (Janeiro), \"February\" (Fevereiro), etc.\n",
    "- **mode (str, opcional)**: O modo de cálculo. Pode ser \"accumulate\" para probabilidades cumulativas ou \"bins\" para probabilidades distribuídas em intervalos. O padrão é \"accumulate\".\n",
    "\n",
    "#### Retorno:\n",
    "- **pd.DataFrame**: Um DataFrame contendo a tabela de distribuição de vento, onde as linhas são os limites de velocidade do vento (cumulativos ou intervalos) e as colunas são os bins de direção do vento, além de uma coluna \"Omni\" para a soma das frequências em todas as direções."
   ]
  },
  {
   "cell_type": "code",
   "execution_count": null,
   "metadata": {},
   "outputs": [],
   "source": [
    "# Geração da tabela de distribuição de vento a 140 metros de altura\n",
    "wind_distribution_table = ds_accessor.generate_wind_distribution_table(140)\n",
    "\n",
    "# Exibição da tabela gerada\n",
    "print(wind_distribution_table)"
   ]
  },
  {
   "cell_type": "markdown",
   "metadata": {},
   "source": [
    "O arquivo que estávamos usando para teste possui, na verdade, dados apenas para as primeiras 10 horas do dia 08 de agosto de 2024. Por conta disso, a tabela de distribuição gerada anteriormente não apresentou muitos valores, o que pode dificultar uma análise mais abrangente da funcionalidade. Para podermos ter uma visão mais clara e completa do potencial dessa função, utilizaremos agora um arquivo de teste criado especificamente para este guia. Este novo arquivo contém dados fictícios para o ano de 2023, com velocidades de vento geradas a partir de uma distribuição Weibull aleatória, e uma resolução temporal de 1 hora. Com esse novo arquivo, iremos criar um novo objeto `ReadWindCubeAccessor` e construir a tabela de distribuição de vento para análise."
   ]
  },
  {
   "cell_type": "code",
   "execution_count": null,
   "metadata": {},
   "outputs": [],
   "source": [
    "# Criando o novo objeto ReadWindCubeAccessor com o arquivo de teste fictício\n",
    "ds_accessor = ReadWindCubeAccessor(\"./dummy_data_2023.rtd\")\n",
    "\n",
    "# Carregar os dados do arquivo de teste\n",
    "ds_accessor.load_data(reference_height=100)\n",
    "\n",
    "# Gerar a tabela de distribuição de vento a 140 metros de altura para o ano de 2023\n",
    "wind_distribution_table_test = ds_accessor.generate_wind_distribution_table(140)\n",
    "\n",
    "# Exibir a tabela gerada\n",
    "print(wind_distribution_table_test)"
   ]
  },
  {
   "cell_type": "markdown",
   "metadata": {},
   "source": [
    "#### Exemplo de Uso: Filtrando por Mês ou Estação \n",
    "Além de gerar a tabela de distribuição para o conjunto de dados completo, podemos também filtrar por um período específico, como um mês ou uma estação do ano. \n",
    "\n",
    "##### Exemplo: Filtrando por Mês"
   ]
  },
  {
   "cell_type": "code",
   "execution_count": null,
   "metadata": {},
   "outputs": [],
   "source": [
    "# Gerar a tabela de distribuição de vento para o mês de Janeiro\n",
    "wind_distribution_january = ds_accessor.generate_wind_distribution_table(140, period='January')\n",
    "print(wind_distribution_january)"
   ]
  },
  {
   "cell_type": "markdown",
   "metadata": {},
   "source": [
    "##### Exemplo: Filtrando por Estação (Verão)"
   ]
  },
  {
   "cell_type": "code",
   "execution_count": null,
   "metadata": {},
   "outputs": [],
   "source": [
    "# Gerar a tabela de distribuição de vento para o verão (Dezembro, Janeiro, Fevereiro)\n",
    "wind_distribution_summer = ds_accessor.generate_wind_distribution_table(140, period='DJF')\n",
    "print(wind_distribution_summer)"
   ]
  },
  {
   "cell_type": "markdown",
   "metadata": {},
   "source": [
    "Também é possível fazer o gráfico da rosa dos ventos para um mês ou estação específico:"
   ]
  },
  {
   "cell_type": "code",
   "execution_count": null,
   "metadata": {
    "scrolled": true
   },
   "outputs": [],
   "source": [
    "# Plotar a rosa dos ventos para 140 metros no mês de janeiro\n",
    "ax = ds_accessor.plot_wind_rose(140, colormap='coolwarm', period='January')\n",
    "plt.show()"
   ]
  },
  {
   "cell_type": "markdown",
   "metadata": {},
   "source": [
    "#### Exemplo de Uso: Usando bins ao invés de valores acumulados\n",
    "\n",
    "Nesse caso, o uso do argumento 'mode' em conjunto com a opção 'bins' faz com que cada linha represente a frequência relativa de ocorrência de valores entre os limites determinados na primeira coluna, sendo que o valor da esquerda é incluído, enquanto que os valores têm que ser menores que o valor à direita. \n",
    "\n",
    "Por exemplo, se o intervalo for `2-3`, isso significa que estamos considerando a frequência de ocorrência de velocidades de vento maiores ou iguais a 2 m/s e menores que 3 m/s. Cada coluna da tabela representa um bin de direção do vento, com cada valor indicando a porcentagem de ocorrência relativa àquela direção específica dentro do intervalo de velocidade.\n",
    "\n",
    "A tabela gerada com o modo 'bins' é útil para entender a distribuição do vento em diferentes faixas de velocidade e direções, permitindo uma análise detalhada dos padrões de vento em uma determinada altura."
   ]
  },
  {
   "cell_type": "code",
   "execution_count": null,
   "metadata": {},
   "outputs": [],
   "source": [
    "# Definir opções para mostrar todas as linhas e colunas\n",
    "wind_distribution_bins = ds_accessor.generate_wind_distribution_table(140, mode='bins')\n",
    "print(wind_distribution_bins)"
   ]
  },
  {
   "cell_type": "markdown",
   "metadata": {},
   "source": [
    "### Geração de Tabela de Cobertura de Dados\n",
    "\n",
    "A função `generate_data_coverage_table` gera uma tabela de cobertura de dados que verifica a quantidade de dados faltantes ao longo do tempo. Cada linha da tabela representa um mês, enquanto cada coluna representa um dia do mês. A célula correspondente mostra a porcentagem de cobertura de dados disponível para aquela combinação de mês e dia.\n",
    "\n",
    "Além disso, a função possui um argumento opcional `plot` que, quando definido como `True`, gera um gráfico visual da cobertura de dados, semelhante ao apresentado na imagem anterior. Esse gráfico utiliza um heatmap para mostrar visualmente a presença (ou ausência) de dados ao longo do tempo, facilitando a análise rápida de lacunas na coleta de dados.\n",
    "\n",
    "Essa funcionalidade é extremamente útil para verificar a qualidade dos dados antes de realizar qualquer análise mais detalhada, garantindo que não existam grandes períodos com falta de dados."
   ]
  },
  {
   "cell_type": "code",
   "execution_count": null,
   "metadata": {},
   "outputs": [],
   "source": [
    "coverage_table = ds_accessor.generate_data_coverage_table(140, plot=True)\n",
    "print(coverage_table)"
   ]
  },
  {
   "cell_type": "markdown",
   "metadata": {},
   "source": [
    "### Geração de Tabela de Velocidade Média do Vento por Hora e Mês\n",
    "\n",
    "A função `generate_average_wind_speed_table` gera uma tabela contendo os valores médios da velocidade do vento para cada hora do dia, separados por mês, além de agrupamentos sazonais (verão, outono, inverno e primavera) e uma média global. Cada linha da tabela representa uma hora do dia, enquanto cada coluna representa um mês ou um agrupamento sazonal.\n",
    "\n",
    "A última linha da tabela representa a média mensal de velocidade do vento para cada coluna. A função também possui um argumento opcional `plot`, que, quando definido como `True`, cria um gráfico visual da tabela. As cores do gráfico representam a razão entre a velocidade média do vento e a velocidade máxima, facilitando a interpretação dos padrões sazonais e diários da velocidade do vento.\n",
    "\n",
    "Essa funcionalidade é útil para identificar padrões de vento ao longo do dia e das estações do ano, proporcionando uma visão detalhada dos comportamentos de vento em diferentes períodos.\n",
    "\n"
   ]
  },
  {
   "cell_type": "code",
   "execution_count": null,
   "metadata": {},
   "outputs": [],
   "source": [
    "average_wind_speed_table = ds_accessor.generate_average_wind_speed_table(140, plot=True)\n",
    "print(average_wind_speed_table)\n",
    "plt.show()"
   ]
  }
 ],
 "metadata": {
  "kernelspec": {
   "display_name": "Python 3 (ipykernel)",
   "language": "python",
   "name": "python3"
  },
  "language_info": {
   "codemirror_mode": {
    "name": "ipython",
    "version": 3
   },
   "file_extension": ".py",
   "mimetype": "text/x-python",
   "name": "python",
   "nbconvert_exporter": "python",
   "pygments_lexer": "ipython3",
   "version": "3.12.3"
  }
 },
 "nbformat": 4,
 "nbformat_minor": 4
}
