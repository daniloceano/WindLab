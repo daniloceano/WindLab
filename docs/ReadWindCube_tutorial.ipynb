





# Primeiramente, importar o objeto ReadWindCubeAccessor
from ReadWindCube import ReadWindCubeAccessor

# Criar uma instância de ReadWindCubeAccessor e carregar o arquivo de exemplo
ds_accessor = ReadWindCubeAccessor("./WLS866-104_2024_08_01__00_00_00.rtd")  # Arquivo de exemplo
ds_accessor.load_data()

# Acessar diretamente o objeto xarray.Dataset
dataset = ds_accessor.dataset
print(dataset)





# Criando uma instância do ReadWindCubeAccessor e carregando o arquivo com uma altura de referência de 100 metros
ds_accessor = ReadWindCubeAccessor("./WLS866-104_2024_08_01__00_00_00.rtd")
ds_accessor.load_data(reference_height=100)

# Acessar diretamente o objeto xarray.Dataset e verificar as alturas ajustadas
dataset = ds_accessor.dataset
print(dataset)





# Selecionando dados entre 2024-08-01 00:00:00 e 2024-08-01 02:00:00 para a altura de 50 metros
subset_accessor = ds_accessor.sel(time=slice('2024-08-01T00:00:00', '2024-08-01T02:00:00'), height=150)
print(subset_accessor.dataset)





# Selecionando os primeiros 100 passos de tempo e o primeiro índice de altura
subset_accessor = ds_accessor.isel(time=slice(0, 100), height=0)
print(subset_accessor.dataset)








# Calcular o desvio padrão com remoção de tendência para a velocidade do vento a 140 metros
std_detrended_ws140m = ds_accessor.compute_std_detrended_data(140, 'Wind Speed (m/s)')

# Importar biblioteca de plotagem
import matplotlib.pyplot as plt

# Plotar o desvio padrão ao longo do tempo
plt.figure(figsize=(8,6))
plt.plot(dataset.time.values, std_detrended_ws140m.values, c='#c1121f')
plt.title('Desvio Padrão da Velocidade do Vento com Tendência Removida a 140m', fontsize=14)
plt.xlabel('Tempo', labelpad=10, fontsize=14)
plt.xticks(rotation=45, fontsize=12)
plt.yticks(fontsize=12)
plt.show()





# Calcular o desvio padrão com remoção de tendência para a velocidade do vento a 140 metros
std_detrended_ws140m = ds_accessor.compute_std_detrended_data(140, 'Wind Speed (m/s)')

# Velocidade real a 140 metros
ws140m = dataset["Wind Speed (m/s)"].sel(height=140)
print(ws140m)

# Importar biblioteca de plotagem
import matplotlib.pyplot as plt

# Plotar o desvio padrão ao longo do tempo junto com a velocidade do vento original
plt.figure(figsize=(8,6))
plt.plot(dataset.time.values, ws140m.values, c='#003049', label='Velocidade do Vento a 140m')
plt.plot(dataset.time.values, (std_detrended_ws140m + ws140m.mean()).values, c='#c1121f', label='Velocidade com Desvio Padrão Detrended')
plt.title('Desvio Padrão da Velocidade do Vento com Tendência Removida a 140m', fontsize=14)
plt.xlabel('Tempo', labelpad=10, fontsize=14)
plt.xticks(rotation=45, fontsize=12)
plt.yticks(fontsize=12)
plt.legend()
plt.show()





# Velocidade do vento
ax = ds_accessor.plot_variable(140, 'Wind Speed (m/s)')

# Componente X
ax = ds_accessor.plot_variable(140, 'X-wind (m/s)')
ax.tick_params(axis='x', labelrotation=45)  # Rotaciona os rótulos do eixo X

# Direção do vento
ax = ds_accessor.plot_variable(140, 'Wind Direction (°)')
ax.tick_params(axis='x', labelrotation=45)
ax.grid(True)  # Ativa o grid no gráfico
line = ax.lines[0] # Capturando a linha gerada
line.set_color('red')  # Define a cor da linha para vermelho





# Obter um DataFrame com velocidade e direção do vento a 40 metros
wind_df = ds_accessor.get_wind_df(140)

# Exibir o DataFrame
print(wind_df.head())





# Plotar a rosa dos ventos para a altura de 140 metros sem média temporal
ds_accessor.plot_wind_rose(140)
plt.show()





# Plotar a rosa dos ventos para a altura de 140 metros com média horária e um mapa de cores diferente
ax = ds_accessor.plot_wind_rose(140, averaging_window='1h', colormap='coolwarm')
ax.set_title("Rosa dos Ventos a 40m - Média Horária", fontsize=16)
plt.show()

# Salvar a figura
ax.figure.savefig('rosa_dos_ventos_140m_horario.png')





# Geração da tabela de distribuição de vento a 140 metros de altura
wind_distribution_table = ds_accessor.generate_wind_distribution_table(140)

# Exibição da tabela gerada
print(wind_distribution_table)





# Criando o novo objeto ReadWindCubeAccessor com o arquivo de teste fictício
ds_accessor = ReadWindCubeAccessor("./dummy_data_2023.rtd")

# Carregar os dados do arquivo de teste
ds_accessor.load_data(reference_height=100)

# Gerar a tabela de distribuição de vento a 140 metros de altura para o ano de 2023
wind_distribution_table_test = ds_accessor.generate_wind_distribution_table(140)

# Exibir a tabela gerada
print(wind_distribution_table_test)





# Gerar a tabela de distribuição de vento para o mês de Janeiro
wind_distribution_january = ds_accessor.generate_wind_distribution_table(140, period='January')
print(wind_distribution_january)





# Gerar a tabela de distribuição de vento para o verão (Dezembro, Janeiro, Fevereiro)
wind_distribution_summer = ds_accessor.generate_wind_distribution_table(140, period='DJF')
print(wind_distribution_summer)





# Plotar a rosa dos ventos para 140 metros no mês de janeiro
ax = ds_accessor.plot_wind_rose(140, colormap='coolwarm', period='January')
plt.show()





wind_distribution_bins = ds_accessor.generate_wind_distribution_table(40)
print(wind_distribution_bins)
